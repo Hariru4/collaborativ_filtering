{
 "cells": [
  {
   "cell_type": "markdown",
   "id": "aa8ce351",
   "metadata": {},
   "source": [
    "Here we import the necessary libraries"
   ]
  },
  {
   "cell_type": "code",
   "execution_count": null,
   "id": "a1db0f8a",
   "metadata": {},
   "outputs": [],
   "source": [
    "import pandas as pd"
   ]
  },
  {
   "cell_type": "markdown",
   "id": "17531f14",
   "metadata": {},
   "source": [
    "Adjusting the coldwitdhs and columns to see the data better"
   ]
  },
  {
   "cell_type": "code",
   "execution_count": null,
   "id": "a3282906",
   "metadata": {},
   "outputs": [],
   "source": [
    "pd.set_option('display.max_colwidth', None)\n",
    "pd.set_option('display.max_columns', None)  "
   ]
  },
  {
   "cell_type": "markdown",
   "id": "39b415a2",
   "metadata": {},
   "source": [
    "Loading the data, and pivoting it with the reader_id"
   ]
  },
  {
   "cell_type": "code",
   "execution_count": null,
   "id": "8a9e8526",
   "metadata": {},
   "outputs": [],
   "source": [
    "df = pd.read_csv('Aufgabe_2_Testdaten.csv')"
   ]
  },
  {
   "cell_type": "code",
   "execution_count": null,
   "id": "8e660952",
   "metadata": {},
   "outputs": [],
   "source": [
    "book_matrix = df.pivot_table(index='reader_id',columns='book_id',values='book_rating')"
   ]
  },
  {
   "cell_type": "code",
   "execution_count": null,
   "id": "3c29bfbf",
   "metadata": {},
   "outputs": [],
   "source": [
    "book_matrix.head(10)"
   ]
  },
  {
   "cell_type": "markdown",
   "id": "d37576c0",
   "metadata": {},
   "source": [
    "Filling na values with 0, to be able to work with the df.\n",
    "Drop movies which are rated tooo less, to avoid noise adjust thes."
   ]
  },
  {
   "cell_type": "code",
   "execution_count": null,
   "id": "547b778e",
   "metadata": {},
   "outputs": [],
   "source": [
    "book_matrix = book_matrix.dropna(thresh=0,axis=1).fillna(0)"
   ]
  },
  {
   "cell_type": "code",
   "execution_count": null,
   "id": "78b98edd",
   "metadata": {},
   "outputs": [],
   "source": [
    "book_matrix"
   ]
  },
  {
   "cell_type": "markdown",
   "id": "ce95ef9f",
   "metadata": {},
   "source": [
    "Here we apply the pearson correlation. Since pearson is using the 'means' in his logic, we dont need to standardize the data."
   ]
  },
  {
   "cell_type": "code",
   "execution_count": null,
   "id": "163438a7",
   "metadata": {},
   "outputs": [],
   "source": [
    "item_similarity_df = book_matrix.corr(method='pearson')\n",
    "item_similarity_df.head(10)"
   ]
  },
  {
   "cell_type": "markdown",
   "id": "93b17005",
   "metadata": {},
   "source": [
    "This is our function to get movies with similar ratings"
   ]
  },
  {
   "cell_type": "code",
   "execution_count": null,
   "id": "64f37f3f",
   "metadata": {},
   "outputs": [],
   "source": [
    "def get_similar_books(book_id,book_rating):\n",
    "    similar_score = item_similarity_df[book_id]*(book_rating-2.5)\n",
    "    similar_score = similar_score.sort_values(ascending=False)\n",
    "    return similar_score"
   ]
  },
  {
   "cell_type": "code",
   "execution_count": null,
   "id": "b1f490cd",
   "metadata": {},
   "outputs": [],
   "source": [
    "book_lover = [(1,1),(2,2),(3,3),(4,4)]\n",
    "book_recommendations = pd.DataFrame()\n",
    "\n",
    "for book, rating in book_lover:\n",
    "    book_recommendations = book_recommendations.append(get_similar_books(book,rating),ignore_index=True)\n",
    "\n",
    "book_recommendations.head()\n",
    "book_recommendations.sum().sort_values(ascending=False)"
   ]
  }
 ],
 "metadata": {
  "kernelspec": {
   "display_name": "Python 3 (ipykernel)",
   "language": "python",
   "name": "python3"
  },
  "language_info": {
   "codemirror_mode": {
    "name": "ipython",
    "version": 3
   },
   "file_extension": ".py",
   "mimetype": "text/x-python",
   "name": "python",
   "nbconvert_exporter": "python",
   "pygments_lexer": "ipython3",
   "version": "3.7.4"
  }
 },
 "nbformat": 4,
 "nbformat_minor": 5
}

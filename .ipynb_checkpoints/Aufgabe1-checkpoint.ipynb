{
 "cells": [
  {
   "cell_type": "markdown",
   "id": "c7cce49f",
   "metadata": {},
   "source": [
    "Install this libraries if you dont have them"
   ]
  },
  {
   "cell_type": "code",
   "execution_count": 69,
   "id": "b61c1845",
   "metadata": {},
   "outputs": [],
   "source": [
    "#pip install pandasql\n",
    "#pip install pandas\n",
    "#pip install numpy"
   ]
  },
  {
   "cell_type": "markdown",
   "id": "c85f9cd4",
   "metadata": {},
   "source": [
    "Here we are importing the libraries"
   ]
  },
  {
   "cell_type": "code",
   "execution_count": 6,
   "id": "07db2caa",
   "metadata": {},
   "outputs": [],
   "source": [
    "import pandas as pd \n",
    "import numpy as np\n",
    "import pandasql as ps"
   ]
  },
  {
   "cell_type": "markdown",
   "id": "ce1008fd",
   "metadata": {},
   "source": [
    "Here we are loading the dataset and look on it"
   ]
  },
  {
   "cell_type": "code",
   "execution_count": 7,
   "id": "a73468d4",
   "metadata": {},
   "outputs": [],
   "source": [
    "df = pd.read_csv('Aufgabe_1_Testdaten.csv')"
   ]
  },
  {
   "cell_type": "code",
   "execution_count": 8,
   "id": "aa41c03a",
   "metadata": {},
   "outputs": [
    {
     "data": {
      "text/html": [
       "<div>\n",
       "<style scoped>\n",
       "    .dataframe tbody tr th:only-of-type {\n",
       "        vertical-align: middle;\n",
       "    }\n",
       "\n",
       "    .dataframe tbody tr th {\n",
       "        vertical-align: top;\n",
       "    }\n",
       "\n",
       "    .dataframe thead th {\n",
       "        text-align: right;\n",
       "    }\n",
       "</style>\n",
       "<table border=\"1\" class=\"dataframe\">\n",
       "  <thead>\n",
       "    <tr style=\"text-align: right;\">\n",
       "      <th></th>\n",
       "      <th>teaser_id</th>\n",
       "      <th>event_name</th>\n",
       "      <th>timestamp</th>\n",
       "    </tr>\n",
       "  </thead>\n",
       "  <tbody>\n",
       "    <tr>\n",
       "      <th>0</th>\n",
       "      <td>11000</td>\n",
       "      <td>impression</td>\n",
       "      <td>2020-08-22 17:48:58</td>\n",
       "    </tr>\n",
       "    <tr>\n",
       "      <th>1</th>\n",
       "      <td>11017</td>\n",
       "      <td>click</td>\n",
       "      <td>2019-05-17 16:10:50</td>\n",
       "    </tr>\n",
       "    <tr>\n",
       "      <th>2</th>\n",
       "      <td>11005</td>\n",
       "      <td>impression</td>\n",
       "      <td>2020-08-23 03:09:53</td>\n",
       "    </tr>\n",
       "    <tr>\n",
       "      <th>3</th>\n",
       "      <td>11009</td>\n",
       "      <td>click</td>\n",
       "      <td>2020-02-24 05:09:36</td>\n",
       "    </tr>\n",
       "    <tr>\n",
       "      <th>4</th>\n",
       "      <td>11006</td>\n",
       "      <td>impression</td>\n",
       "      <td>2020-06-16 03:40:10</td>\n",
       "    </tr>\n",
       "    <tr>\n",
       "      <th>5</th>\n",
       "      <td>11001</td>\n",
       "      <td>impression</td>\n",
       "      <td>2019-09-18 18:31:42</td>\n",
       "    </tr>\n",
       "    <tr>\n",
       "      <th>6</th>\n",
       "      <td>11020</td>\n",
       "      <td>impression</td>\n",
       "      <td>2019-12-31 19:44:29</td>\n",
       "    </tr>\n",
       "    <tr>\n",
       "      <th>7</th>\n",
       "      <td>11018</td>\n",
       "      <td>click</td>\n",
       "      <td>2020-10-10 13:42:50</td>\n",
       "    </tr>\n",
       "    <tr>\n",
       "      <th>8</th>\n",
       "      <td>11015</td>\n",
       "      <td>impression</td>\n",
       "      <td>2019-03-06 02:46:27</td>\n",
       "    </tr>\n",
       "    <tr>\n",
       "      <th>9</th>\n",
       "      <td>11020</td>\n",
       "      <td>impression</td>\n",
       "      <td>2020-01-12 19:14:36</td>\n",
       "    </tr>\n",
       "  </tbody>\n",
       "</table>\n",
       "</div>"
      ],
      "text/plain": [
       "   teaser_id  event_name            timestamp\n",
       "0      11000  impression  2020-08-22 17:48:58\n",
       "1      11017       click  2019-05-17 16:10:50\n",
       "2      11005  impression  2020-08-23 03:09:53\n",
       "3      11009       click  2020-02-24 05:09:36\n",
       "4      11006  impression  2020-06-16 03:40:10\n",
       "5      11001  impression  2019-09-18 18:31:42\n",
       "6      11020  impression  2019-12-31 19:44:29\n",
       "7      11018       click  2020-10-10 13:42:50\n",
       "8      11015  impression  2019-03-06 02:46:27\n",
       "9      11020  impression  2020-01-12 19:14:36"
      ]
     },
     "execution_count": 8,
     "metadata": {},
     "output_type": "execute_result"
    }
   ],
   "source": [
    "df.head(10)"
   ]
  },
  {
   "cell_type": "markdown",
   "id": "08be0b64",
   "metadata": {},
   "source": [
    "Here we make the SQL query and calculate the CTR"
   ]
  },
  {
   "cell_type": "code",
   "execution_count": 66,
   "id": "7d4f01c1",
   "metadata": {},
   "outputs": [],
   "source": [
    "grouped_df = ps.sqldf(\"select teaser_id, SUM(CASE WHEN event_name='impression' THEN 1 ELSE 0 END) as impression, SUM(CASE WHEN event_name='click' THEN 1 ELSE 0 END) as click, ( CAST((SUM(CASE WHEN event_name='click' THEN 1 ELSE 0 END)) AS float) / (SUM(CASE WHEN event_name='impression' THEN 1 ELSE 0 END)))*100 as ctr_in_percent  from df where ( timestamp>='2020-01-01' and timestamp<='2020-12-31') group by teaser_id \")"
   ]
  },
  {
   "cell_type": "code",
   "execution_count": 67,
   "id": "880eafd9",
   "metadata": {},
   "outputs": [
    {
     "data": {
      "text/html": [
       "<div>\n",
       "<style scoped>\n",
       "    .dataframe tbody tr th:only-of-type {\n",
       "        vertical-align: middle;\n",
       "    }\n",
       "\n",
       "    .dataframe tbody tr th {\n",
       "        vertical-align: top;\n",
       "    }\n",
       "\n",
       "    .dataframe thead th {\n",
       "        text-align: right;\n",
       "    }\n",
       "</style>\n",
       "<table border=\"1\" class=\"dataframe\">\n",
       "  <thead>\n",
       "    <tr style=\"text-align: right;\">\n",
       "      <th></th>\n",
       "      <th>teaser_id</th>\n",
       "      <th>impression</th>\n",
       "      <th>click</th>\n",
       "      <th>ctr_in_percent</th>\n",
       "    </tr>\n",
       "  </thead>\n",
       "  <tbody>\n",
       "    <tr>\n",
       "      <th>0</th>\n",
       "      <td>11000</td>\n",
       "      <td>119</td>\n",
       "      <td>110</td>\n",
       "      <td>92.436975</td>\n",
       "    </tr>\n",
       "    <tr>\n",
       "      <th>1</th>\n",
       "      <td>11001</td>\n",
       "      <td>129</td>\n",
       "      <td>116</td>\n",
       "      <td>89.922481</td>\n",
       "    </tr>\n",
       "    <tr>\n",
       "      <th>2</th>\n",
       "      <td>11002</td>\n",
       "      <td>105</td>\n",
       "      <td>106</td>\n",
       "      <td>100.952381</td>\n",
       "    </tr>\n",
       "    <tr>\n",
       "      <th>3</th>\n",
       "      <td>11003</td>\n",
       "      <td>119</td>\n",
       "      <td>121</td>\n",
       "      <td>101.680672</td>\n",
       "    </tr>\n",
       "    <tr>\n",
       "      <th>4</th>\n",
       "      <td>11004</td>\n",
       "      <td>116</td>\n",
       "      <td>122</td>\n",
       "      <td>105.172414</td>\n",
       "    </tr>\n",
       "    <tr>\n",
       "      <th>5</th>\n",
       "      <td>11005</td>\n",
       "      <td>135</td>\n",
       "      <td>114</td>\n",
       "      <td>84.444444</td>\n",
       "    </tr>\n",
       "    <tr>\n",
       "      <th>6</th>\n",
       "      <td>11006</td>\n",
       "      <td>119</td>\n",
       "      <td>121</td>\n",
       "      <td>101.680672</td>\n",
       "    </tr>\n",
       "    <tr>\n",
       "      <th>7</th>\n",
       "      <td>11007</td>\n",
       "      <td>116</td>\n",
       "      <td>107</td>\n",
       "      <td>92.241379</td>\n",
       "    </tr>\n",
       "    <tr>\n",
       "      <th>8</th>\n",
       "      <td>11008</td>\n",
       "      <td>105</td>\n",
       "      <td>111</td>\n",
       "      <td>105.714286</td>\n",
       "    </tr>\n",
       "    <tr>\n",
       "      <th>9</th>\n",
       "      <td>11009</td>\n",
       "      <td>130</td>\n",
       "      <td>124</td>\n",
       "      <td>95.384615</td>\n",
       "    </tr>\n",
       "  </tbody>\n",
       "</table>\n",
       "</div>"
      ],
      "text/plain": [
       "   teaser_id  impression  click  ctr_in_percent\n",
       "0      11000         119    110       92.436975\n",
       "1      11001         129    116       89.922481\n",
       "2      11002         105    106      100.952381\n",
       "3      11003         119    121      101.680672\n",
       "4      11004         116    122      105.172414\n",
       "5      11005         135    114       84.444444\n",
       "6      11006         119    121      101.680672\n",
       "7      11007         116    107       92.241379\n",
       "8      11008         105    111      105.714286\n",
       "9      11009         130    124       95.384615"
      ]
     },
     "execution_count": 67,
     "metadata": {},
     "output_type": "execute_result"
    }
   ],
   "source": [
    "grouped_df.head(10)"
   ]
  }
 ],
 "metadata": {
  "kernelspec": {
   "display_name": "Python 3 (ipykernel)",
   "language": "python",
   "name": "python3"
  },
  "language_info": {
   "codemirror_mode": {
    "name": "ipython",
    "version": 3
   },
   "file_extension": ".py",
   "mimetype": "text/x-python",
   "name": "python",
   "nbconvert_exporter": "python",
   "pygments_lexer": "ipython3",
   "version": "3.7.4"
  }
 },
 "nbformat": 4,
 "nbformat_minor": 5
}
